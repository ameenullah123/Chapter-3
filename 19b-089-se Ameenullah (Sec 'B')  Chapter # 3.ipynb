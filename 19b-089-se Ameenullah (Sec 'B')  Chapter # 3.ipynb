{
 "cells": [
  {
   "cell_type": "markdown",
   "metadata": {},
   "source": [
    "# Q.3.1"
   ]
  },
  {
   "cell_type": "code",
   "execution_count": 2,
   "metadata": {},
   "outputs": [
    {
     "name": "stdout",
     "output_type": "stream",
     "text": [
      "Enter the temperature in Fahrenheit: 85\n",
      "The temperature in Celsius is: 29.444444444444443 C\n"
     ]
    }
   ],
   "source": [
    "f=eval(input(\"Enter the temperature in Fahrenheit: \")) \n",
    "c=(f - 32) * 5 / 9\n",
    "print(\"The temperature in Celsius is:\",c,\"C\")"
   ]
  },
  {
   "cell_type": "markdown",
   "metadata": {},
   "source": [
    "# Q.3.2"
   ]
  },
  {
   "cell_type": "code",
   "execution_count": 4,
   "metadata": {},
   "outputs": [
    {
     "name": "stdout",
     "output_type": "stream",
     "text": [
      "Enter the age65\n",
      "You can get your pension benefits!\n"
     ]
    }
   ],
   "source": [
    "age=eval(input(\"Enter the age\"))\n",
    "if age>62:\n",
    "    print(\"You can get your pension benefits!\")"
   ]
  },
  {
   "cell_type": "code",
   "execution_count": 8,
   "metadata": {},
   "outputs": [
    {
     "name": "stdout",
     "output_type": "stream",
     "text": [
      "Enter the namemusial aaron williams gehrig ruth\n"
     ]
    }
   ],
   "source": [
    "name=str(input(\"Enter the name\"))\n",
    "if name==['Musial','Aaron','Williams','Gehrig','Ruth']:\n",
    "    print(\"One of the top 5 baseball players, ever!\")"
   ]
  },
  {
   "cell_type": "code",
   "execution_count": 9,
   "metadata": {},
   "outputs": [
    {
     "name": "stdout",
     "output_type": "stream",
     "text": [
      "Enter the num12\n",
      "You are dead ...\n"
     ]
    }
   ],
   "source": [
    "hits=eval(input(\"Enter the num\"))\n",
    "shield=0\n",
    "if hits>10 and shield==0:\n",
    "    print(\"You are dead ...\")"
   ]
  },
  {
   "cell_type": "code",
   "execution_count": 14,
   "metadata": {},
   "outputs": [
    {
     "name": "stdout",
     "output_type": "stream",
     "text": [
      "I can escape.\n"
     ]
    }
   ],
   "source": [
    "a=(\"north\",\"east\",\"west\",\"south\")\n",
    "if  \"north\" or \"south\" or \"east\" or \"west\":\n",
    "    print(\"I can escape.\") "
   ]
  },
  {
   "cell_type": "markdown",
   "metadata": {},
   "source": [
    "# Q.3.3"
   ]
  },
  {
   "cell_type": "code",
   "execution_count": 16,
   "metadata": {},
   "outputs": [
    {
     "name": "stdout",
     "output_type": "stream",
     "text": [
      "Could  be a leap year.\n"
     ]
    }
   ],
   "source": [
    "year=16\n",
    "if year%4==0:\n",
    "    print(\"Could  be a leap year.\")\n",
    "else:\n",
    "    print(\"Definitely not a leap year.\")"
   ]
  },
  {
   "cell_type": "code",
   "execution_count": 17,
   "metadata": {},
   "outputs": [
    {
     "name": "stdout",
     "output_type": "stream",
     "text": [
      "You Won!\n"
     ]
    }
   ],
   "source": [
    "ticket=(1,2,3,4)\n",
    "lottery=(1,2,3,4)\n",
    "if ticket==lottery:\n",
    "    print(\"You Won!\")\n",
    "else:\n",
    "    print(\"Better luck nnext time...\")"
   ]
  },
  {
   "cell_type": "markdown",
   "metadata": {},
   "source": [
    "# Q.3.4"
   ]
  },
  {
   "cell_type": "code",
   "execution_count": 19,
   "metadata": {},
   "outputs": [
    {
     "name": "stdout",
     "output_type": "stream",
     "text": [
      "Enter your login id: ameen\n",
      "You are in!\n",
      "Done\n"
     ]
    }
   ],
   "source": [
    "a=('Joe','ameen','saad','Sophie','Wassay')\n",
    "x=input(\"Enter your login id: \")\n",
    "if x in a:\n",
    "    print(\"You are in!\")\n",
    "else:\n",
    "    print(\"User unknown\")\n",
    "print(\"Done\")"
   ]
  },
  {
   "cell_type": "markdown",
   "metadata": {},
   "source": [
    "# Q.3.5"
   ]
  },
  {
   "cell_type": "code",
   "execution_count": 20,
   "metadata": {},
   "outputs": [
    {
     "name": "stdout",
     "output_type": "stream",
     "text": [
      "Please enter a word: sky\n",
      "Please enter a word: stop\n",
      "Please enter a word: stay\n",
      "Please enter a word: leave\n",
      "Please enter a word: play\n",
      "sky\n",
      "stop\n",
      "stay\n",
      "leave\n",
      "play\n"
     ]
    }
   ],
   "source": [
    "words_list=[]\n",
    "for i in range(0, 5):\n",
    "    a=input('Please enter a word: ') \n",
    "    words_list.append(a)\n",
    "for word in words_list:   \n",
    "    print(word)"
   ]
  },
  {
   "cell_type": "markdown",
   "metadata": {},
   "source": [
    "# Q.3.6"
   ]
  },
  {
   "cell_type": "code",
   "execution_count": 21,
   "metadata": {},
   "outputs": [
    {
     "name": "stdout",
     "output_type": "stream",
     "text": [
      "0\n",
      "1\n",
      "2\n",
      "3\n",
      "4\n",
      "5\n",
      "6\n",
      "7\n",
      "8\n",
      "9\n",
      "0\n",
      "1\n"
     ]
    }
   ],
   "source": [
    "for x in range(0,10):\n",
    "    print(x)\n",
    "for y in range(0,2):\n",
    "    print(y)"
   ]
  },
  {
   "cell_type": "markdown",
   "metadata": {},
   "source": [
    "# Q.3.7"
   ]
  },
  {
   "cell_type": "code",
   "execution_count": 22,
   "metadata": {},
   "outputs": [
    {
     "name": "stdout",
     "output_type": "stream",
     "text": [
      "3\n",
      "4\n",
      "5\n",
      "6\n",
      "7\n",
      "8\n",
      "9\n",
      "10\n",
      "11\n",
      "12\n"
     ]
    }
   ],
   "source": [
    "for a in range(3,13):\n",
    "    print(a)"
   ]
  },
  {
   "cell_type": "code",
   "execution_count": 23,
   "metadata": {},
   "outputs": [
    {
     "name": "stdout",
     "output_type": "stream",
     "text": [
      "0\n",
      "2\n",
      "4\n",
      "6\n",
      "8\n"
     ]
    }
   ],
   "source": [
    "for b in range(0,9,2):\n",
    "    print(b)"
   ]
  },
  {
   "cell_type": "code",
   "execution_count": 24,
   "metadata": {},
   "outputs": [
    {
     "name": "stdout",
     "output_type": "stream",
     "text": [
      "0\n",
      "2\n",
      "4\n",
      "6\n",
      "8\n"
     ]
    }
   ],
   "source": [
    "for b in range(0,9,2):\n",
    "    print(b)"
   ]
  },
  {
   "cell_type": "code",
   "execution_count": 25,
   "metadata": {},
   "outputs": [
    {
     "name": "stdout",
     "output_type": "stream",
     "text": [
      "0\n",
      "5\n",
      "10\n"
     ]
    }
   ],
   "source": [
    "for d in range(0,12,5):\n",
    "    print(d)"
   ]
  },
  {
   "cell_type": "markdown",
   "metadata": {},
   "source": [
    "# Q.3.8"
   ]
  },
  {
   "cell_type": "code",
   "execution_count": 3,
   "metadata": {},
   "outputs": [
    {
     "name": "stdout",
     "output_type": "stream",
     "text": [
      "6.283185307179586\n"
     ]
    }
   ],
   "source": [
    "import math\n",
    "def perimeter(radius):\n",
    "    return(2*(math.pi)*radius)\n",
    "print(perimeter(1))"
   ]
  },
  {
   "cell_type": "code",
   "execution_count": 4,
   "metadata": {},
   "outputs": [
    {
     "name": "stdout",
     "output_type": "stream",
     "text": [
      "12.566370614359172\n"
     ]
    }
   ],
   "source": [
    "import math\n",
    "def perimeter(radius):\n",
    "    return(2*(math.pi)*radius)\n",
    "print(perimeter(2))"
   ]
  },
  {
   "cell_type": "markdown",
   "metadata": {},
   "source": [
    "# Q.3.9"
   ]
  },
  {
   "cell_type": "code",
   "execution_count": 5,
   "metadata": {},
   "outputs": [
    {
     "name": "stdout",
     "output_type": "stream",
     "text": [
      "2.0\n"
     ]
    }
   ],
   "source": [
    "def average(x,y):\n",
    "    return (x+y)/2\n",
    "print(average(1,3))"
   ]
  },
  {
   "cell_type": "code",
   "execution_count": 6,
   "metadata": {},
   "outputs": [
    {
     "name": "stdout",
     "output_type": "stream",
     "text": [
      "2.75\n"
     ]
    }
   ],
   "source": [
    "def average(x,y):\n",
    "    return (x+y)/2\n",
    "print(average(2,3.5))"
   ]
  },
  {
   "cell_type": "markdown",
   "metadata": {},
   "source": [
    "# Q.3.10"
   ]
  },
  {
   "cell_type": "code",
   "execution_count": 7,
   "metadata": {},
   "outputs": [
    {
     "name": "stdout",
     "output_type": "stream",
     "text": [
      "true\n",
      "false\n",
      "true\n",
      "true\n",
      "false\n",
      "true\n",
      "false\n",
      "false\n",
      "true\n",
      "false\n",
      "ameenullah\n"
     ]
    }
   ],
   "source": [
    "def novowels(s):\n",
    "    for c in s:\n",
    "        if c in \"aeiouAEIOU\":\n",
    "           print(\"true\")\n",
    "        else:\n",
    "            print(\"false\")\n",
    "    return s\n",
    "print(novowels(\"ameenullah\"))"
   ]
  },
  {
   "cell_type": "markdown",
   "metadata": {},
   "source": [
    "# Q.3.11"
   ]
  },
  {
   "cell_type": "code",
   "execution_count": 9,
   "metadata": {},
   "outputs": [
    {
     "name": "stdout",
     "output_type": "stream",
     "text": [
      "false\n",
      "true\n",
      "false\n",
      "true\n",
      "false\n",
      "\n"
     ]
    }
   ],
   "source": [
    "def alleven(a):\n",
    "    for x in a:\n",
    "        if x%2 !=0:\n",
    "            print(\"false\")\n",
    "        else:\n",
    "            print(\"true\")\n",
    "    return\"\"\n",
    "print(alleven([1,6,7,2,5]))"
   ]
  },
  {
   "cell_type": "markdown",
   "metadata": {},
   "source": [
    "# Q.3.12"
   ]
  },
  {
   "cell_type": "code",
   "execution_count": 11,
   "metadata": {},
   "outputs": [
    {
     "name": "stdout",
     "output_type": "stream",
     "text": [
      "-3\n",
      "-4\n",
      "-2\n",
      "\n"
     ]
    }
   ],
   "source": [
    "def negatives(lst):\n",
    "    for i in lst:\n",
    "        if i<0:\n",
    "            print(i)\n",
    "    return \"\"\n",
    "print(negatives([1,2,-3,-4,-2]))"
   ]
  },
  {
   "cell_type": "markdown",
   "metadata": {},
   "source": [
    "# Q.3.13"
   ]
  },
  {
   "cell_type": "code",
   "execution_count": 32,
   "metadata": {},
   "outputs": [
    {
     "name": "stdout",
     "output_type": "stream",
     "text": [
      "7.0\n"
     ]
    }
   ],
   "source": [
    "def average(n1, n2):\n",
    "    'Calculates and return average of 2 numbers n1 and n2.'\n",
    "    avg = (n1 + n2) / 2\n",
    "    return avg\n",
    "print(average(5,9))"
   ]
  },
  {
   "cell_type": "code",
   "execution_count": 33,
   "metadata": {},
   "outputs": [
    {
     "name": "stdout",
     "output_type": "stream",
     "text": [
      "-1\n",
      "-3\n",
      "-9\n",
      "None\n"
     ]
    }
   ],
   "source": [
    "def negatives(list):\n",
    "    'prints all negative numbers in list list one in a line.'\n",
    "    for x in list:\n",
    "         if x < 0:\n",
    "            print(x)\n",
    "print(negatives([4,0,-1,-3,6,-9]))"
   ]
  },
  {
   "cell_type": "markdown",
   "metadata": {},
   "source": [
    "# Q.3.14"
   ]
  },
  {
   "cell_type": "code",
   "execution_count": 34,
   "metadata": {},
   "outputs": [
    {
     "name": "stdout",
     "output_type": "stream",
     "text": [
      "[5, 6, 7]\n",
      "3\n"
     ]
    }
   ],
   "source": [
    "a=[5,6,7]\n",
    "b=a\n",
    "print(b)\n",
    "a=3\n",
    "print(a)"
   ]
  },
  {
   "cell_type": "code",
   "execution_count": 35,
   "metadata": {},
   "outputs": [
    {
     "name": "stdout",
     "output_type": "stream",
     "text": [
      "3\n",
      "6\n"
     ]
    }
   ],
   "source": [
    "a=6\n",
    "b=3\n",
    "a,b=b,a\n",
    "print(a)\n",
    "print(b)"
   ]
  },
  {
   "cell_type": "markdown",
   "metadata": {},
   "source": [
    "# Q.3.15"
   ]
  },
  {
   "cell_type": "code",
   "execution_count": 36,
   "metadata": {},
   "outputs": [
    {
     "name": "stdout",
     "output_type": "stream",
     "text": [
      "['sarah', 'Elenor', 'clare', 'Ava']\n"
     ]
    }
   ],
   "source": [
    "team=[\"Ava\",\"Elenor\",\"clare\",\"sarah\"]\n",
    "team[0],team[-1] = team[-1],team[0]\n",
    "print(team)"
   ]
  },
  {
   "cell_type": "code",
   "execution_count": 37,
   "metadata": {},
   "outputs": [
    {
     "name": "stdout",
     "output_type": "stream",
     "text": [
      "[5, 6, 9, 12]\n"
     ]
    }
   ],
   "source": [
    "def h(lst):\n",
    "    lst[0]=5\n",
    "    return lst\n",
    "mylst=[3,6,9,12]\n",
    "print(h(mylst))"
   ]
  },
  {
   "cell_type": "markdown",
   "metadata": {},
   "source": [
    "# Q.3.16"
   ]
  },
  {
   "cell_type": "code",
   "execution_count": 38,
   "metadata": {},
   "outputs": [
    {
     "name": "stdout",
     "output_type": "stream",
     "text": [
      "\n",
      "['apples', 'sugar', 'butter', 'flour']\n"
     ]
    }
   ],
   "source": [
    "def swap(team):\n",
    "    team[0],team[-1] = team[-1],team[0]\n",
    "    return\"\"\n",
    "ingredients=[\"flour\",\"sugar\",\"butter\",\"apples\"]\n",
    "print(swap(ingredients))\n",
    "print(ingredients)"
   ]
  },
  {
   "cell_type": "markdown",
   "metadata": {},
   "source": [
    "# Exercises (Book)"
   ]
  },
  {
   "cell_type": "markdown",
   "metadata": {},
   "source": [
    "# Q.3.17"
   ]
  },
  {
   "cell_type": "code",
   "execution_count": 13,
   "metadata": {},
   "outputs": [
    {
     "name": "stdout",
     "output_type": "stream",
     "text": [
      "7\n"
     ]
    }
   ],
   "source": [
    "a=eval('2 * 3 + 1')\n",
    "print(a)"
   ]
  },
  {
   "cell_type": "code",
   "execution_count": 14,
   "metadata": {},
   "outputs": [
    {
     "ename": "NameError",
     "evalue": "name 'hello' is not defined",
     "output_type": "error",
     "traceback": [
      "\u001b[1;31m---------------------------------------------------------------------------\u001b[0m",
      "\u001b[1;31mNameError\u001b[0m                                 Traceback (most recent call last)",
      "\u001b[1;32m<ipython-input-14-57640b5d4447>\u001b[0m in \u001b[0;36m<module>\u001b[1;34m\u001b[0m\n\u001b[1;32m----> 1\u001b[1;33m \u001b[0mb\u001b[0m\u001b[1;33m=\u001b[0m\u001b[0meval\u001b[0m\u001b[1;33m(\u001b[0m\u001b[1;34m'hello'\u001b[0m\u001b[1;33m)\u001b[0m\u001b[1;33m\u001b[0m\u001b[1;33m\u001b[0m\u001b[0m\n\u001b[0m\u001b[0;32m      2\u001b[0m \u001b[0mprint\u001b[0m\u001b[1;33m(\u001b[0m\u001b[0mb\u001b[0m\u001b[1;33m)\u001b[0m\u001b[1;33m\u001b[0m\u001b[1;33m\u001b[0m\u001b[0m\n",
      "\u001b[1;32m<string>\u001b[0m in \u001b[0;36m<module>\u001b[1;34m\u001b[0m\n",
      "\u001b[1;31mNameError\u001b[0m: name 'hello' is not defined"
     ]
    }
   ],
   "source": [
    "b=eval('hello')\n",
    "print(b)\n"
   ]
  },
  {
   "cell_type": "code",
   "execution_count": 15,
   "metadata": {},
   "outputs": [
    {
     "name": "stdout",
     "output_type": "stream",
     "text": [
      "Hello world!\n"
     ]
    }
   ],
   "source": [
    "c=eval(\"'Hello'+' '+'world!'\")\n",
    "print(c)"
   ]
  },
  {
   "cell_type": "code",
   "execution_count": 16,
   "metadata": {},
   "outputs": [
    {
     "name": "stdout",
     "output_type": "stream",
     "text": [
      "2\n"
     ]
    }
   ],
   "source": [
    "d=eval(\"'ASCII'.count('I')\")\n",
    "print(d)"
   ]
  },
  {
   "cell_type": "code",
   "execution_count": 17,
   "metadata": {},
   "outputs": [
    {
     "ename": "SyntaxError",
     "evalue": "invalid syntax (<string>, line 1)",
     "output_type": "error",
     "traceback": [
      "Traceback \u001b[1;36m(most recent call last)\u001b[0m:\n",
      "  File \u001b[0;32m\"C:\\Users\\hp\\Anaconda3\\lib\\site-packages\\IPython\\core\\interactiveshell.py\"\u001b[0m, line \u001b[0;32m3326\u001b[0m, in \u001b[0;35mrun_code\u001b[0m\n    exec(code_obj, self.user_global_ns, self.user_ns)\n",
      "\u001b[1;36m  File \u001b[1;32m\"<ipython-input-17-59cf9b85051f>\"\u001b[1;36m, line \u001b[1;32m1\u001b[1;36m, in \u001b[1;35m<module>\u001b[1;36m\u001b[0m\n\u001b[1;33m    e=eval('x = 5')\u001b[0m\n",
      "\u001b[1;36m  File \u001b[1;32m\"<string>\"\u001b[1;36m, line \u001b[1;32m1\u001b[0m\n\u001b[1;33m    x = 5\u001b[0m\n\u001b[1;37m      ^\u001b[0m\n\u001b[1;31mSyntaxError\u001b[0m\u001b[1;31m:\u001b[0m invalid syntax\n"
     ]
    }
   ],
   "source": [
    "e=eval('x = 5')\n",
    "print(e)"
   ]
  },
  {
   "cell_type": "markdown",
   "metadata": {},
   "source": [
    "# Q.3.18"
   ]
  },
  {
   "cell_type": "code",
   "execution_count": 19,
   "metadata": {},
   "outputs": [
    {
     "name": "stdout",
     "output_type": "stream",
     "text": [
      "OK\n"
     ]
    }
   ],
   "source": [
    "a, b, c = 3, 4, 5\n",
    "if a<b:\n",
    "    print(\"OK\")\n",
    "elif c<b:\n",
    "    print(\"OK\")\n",
    "elif a+b==c:\n",
    "    print(\"Ok\")\n",
    "elif (a**2)+(b**2)==(c**2):\n",
    "    print(\"OK\")"
   ]
  },
  {
   "cell_type": "markdown",
   "metadata": {},
   "source": [
    "# Q.3.19"
   ]
  },
  {
   "cell_type": "code",
   "execution_count": 20,
   "metadata": {},
   "outputs": [
    {
     "name": "stdout",
     "output_type": "stream",
     "text": [
      "OK\n",
      "Not OK\n",
      "Not OK\n",
      "OK\n"
     ]
    }
   ],
   "source": [
    "a, b, c = 3, 4, 5\n",
    "#3.18(a)\n",
    "if a<b:\n",
    "    print(\"OK\")\n",
    "else:\n",
    "    print(\"Not OK\")\n",
    "if c<b:\n",
    "    print(\"OK\")\n",
    "else:\n",
    "    print(\"Not OK\")\n",
    "if a+b==c:\n",
    "    print(\"Ok\")\n",
    "else:\n",
    "    print(\"Not OK\")\n",
    "if (a**2)+(b**2)==(c**2):\n",
    "    print(\"OK\")\n",
    "else:\n",
    "    print(\"Not OK\")"
   ]
  },
  {
   "cell_type": "markdown",
   "metadata": {},
   "source": [
    "# Q.3.20"
   ]
  },
  {
   "cell_type": "code",
   "execution_count": 21,
   "metadata": {},
   "outputs": [
    {
     "name": "stdout",
     "output_type": "stream",
     "text": [
      "J a n\n",
      "F e b\n",
      "M a r\n"
     ]
    }
   ],
   "source": [
    "months=['January','February','March']\n",
    "for a in months:\n",
    "    print(a[0],a[1],a[2])"
   ]
  },
  {
   "cell_type": "markdown",
   "metadata": {},
   "source": [
    "# Q.3.21"
   ]
  },
  {
   "cell_type": "code",
   "execution_count": 22,
   "metadata": {},
   "outputs": [
    {
     "name": "stdout",
     "output_type": "stream",
     "text": [
      "2\n",
      "4\n",
      "6\n",
      "8\n"
     ]
    }
   ],
   "source": [
    "lst=[2,3,4,5,6,7,8,9]\n",
    "for x in lst:\n",
    "    if x%2==0:\n",
    "        print(x)"
   ]
  },
  {
   "cell_type": "markdown",
   "metadata": {},
   "source": [
    "# Q.3.22"
   ]
  },
  {
   "cell_type": "code",
   "execution_count": 23,
   "metadata": {},
   "outputs": [
    {
     "name": "stdout",
     "output_type": "stream",
     "text": [
      "4\n",
      "8\n"
     ]
    }
   ],
   "source": [
    "lst=[2,3,4,5,6,7,8,9]\n",
    "for y in lst:\n",
    "    if (y**2)%8==0:\n",
    "        print(y)"
   ]
  },
  {
   "cell_type": "markdown",
   "metadata": {},
   "source": [
    "# Q.3.23"
   ]
  },
  {
   "cell_type": "code",
   "execution_count": 24,
   "metadata": {},
   "outputs": [
    {
     "name": "stdout",
     "output_type": "stream",
     "text": [
      "0\n",
      "1\n"
     ]
    }
   ],
   "source": [
    "for a in range(0,2):\n",
    "    print(a)"
   ]
  },
  {
   "cell_type": "code",
   "execution_count": 25,
   "metadata": {},
   "outputs": [
    {
     "name": "stdout",
     "output_type": "stream",
     "text": [
      "0\n"
     ]
    }
   ],
   "source": [
    "for b in range(0,1):\n",
    "    print(b)"
   ]
  },
  {
   "cell_type": "code",
   "execution_count": 26,
   "metadata": {},
   "outputs": [
    {
     "name": "stdout",
     "output_type": "stream",
     "text": [
      "3\n",
      "4\n",
      "5\n",
      "6\n"
     ]
    }
   ],
   "source": [
    "for c in range(3,7):\n",
    "    print(c)"
   ]
  },
  {
   "cell_type": "code",
   "execution_count": 27,
   "metadata": {},
   "outputs": [
    {
     "name": "stdout",
     "output_type": "stream",
     "text": [
      "1\n"
     ]
    }
   ],
   "source": [
    "for d in range(1,2):\n",
    "    print(d)"
   ]
  },
  {
   "cell_type": "code",
   "execution_count": 28,
   "metadata": {},
   "outputs": [
    {
     "name": "stdout",
     "output_type": "stream",
     "text": [
      "0\n",
      "3\n"
     ]
    }
   ],
   "source": [
    "for e in range(0,4,3):\n",
    "    print(e)"
   ]
  },
  {
   "cell_type": "code",
   "execution_count": 29,
   "metadata": {},
   "outputs": [
    {
     "name": "stdout",
     "output_type": "stream",
     "text": [
      "5\n",
      "9\n",
      "13\n",
      "17\n",
      "21\n"
     ]
    }
   ],
   "source": [
    "for  f in range(5,22,4):\n",
    "    print(f)"
   ]
  },
  {
   "cell_type": "markdown",
   "metadata": {},
   "source": [
    "# Q.3.24"
   ]
  },
  {
   "cell_type": "code",
   "execution_count": 1,
   "metadata": {},
   "outputs": [
    {
     "name": "stdout",
     "output_type": "stream",
     "text": [
      "cia\n",
      "mi6\n",
      "lsi\n"
     ]
    }
   ],
   "source": [
    "lst=[\"cia\",\"secret\",\"mi6\",\"lsi\"]\n",
    "for word in lst:\n",
    "    if word != \"secret\":\n",
    "        print(word)"
   ]
  },
  {
   "cell_type": "markdown",
   "metadata": {},
   "source": [
    "# Q.3.25"
   ]
  },
  {
   "cell_type": "code",
   "execution_count": 5,
   "metadata": {},
   "outputs": [
    {
     "name": "stdout",
     "output_type": "stream",
     "text": [
      "Enter list: Ellie,Gavin,Sam,Steven\n",
      "E\n",
      "G\n"
     ]
    }
   ],
   "source": [
    "lst = str(input(\"Enter list: \" ))\n",
    "for word in lst:\n",
    "    if word[0] >= \"A\" and word[0] <= \"M\":\n",
    "        print(word)"
   ]
  },
  {
   "cell_type": "markdown",
   "metadata": {},
   "source": [
    "# Q.3.26"
   ]
  },
  {
   "cell_type": "code",
   "execution_count": 6,
   "metadata": {},
   "outputs": [
    {
     "name": "stdout",
     "output_type": "stream",
     "text": [
      "Enter a list: 3,4,5,7,9,5,4,8\n",
      "The first list element is 3\n",
      "The last list element is 8\n"
     ]
    }
   ],
   "source": [
    "list = eval(input(\"Enter a list: \" ))\n",
    "print(\"The first list element is\",list[0])\n",
    "print(\"The last list element is\",list[-1])"
   ]
  },
  {
   "cell_type": "markdown",
   "metadata": {},
   "source": [
    "# Q.3.27"
   ]
  },
  {
   "cell_type": "code",
   "execution_count": 7,
   "metadata": {},
   "outputs": [
    {
     "name": "stdout",
     "output_type": "stream",
     "text": [
      "Enter n: 10\n",
      "0\n",
      "1\n",
      "4\n",
      "9\n",
      "16\n",
      "25\n",
      "36\n",
      "49\n",
      "64\n",
      "81\n"
     ]
    }
   ],
   "source": [
    "number = eval(input(\"Enter n: \" ))\n",
    "for i in range(number):\n",
    "    print(i*i)"
   ]
  },
  {
   "cell_type": "markdown",
   "metadata": {},
   "source": [
    "# Q.3.29"
   ]
  },
  {
   "cell_type": "code",
   "execution_count": 16,
   "metadata": {},
   "outputs": [
    {
     "name": "stdout",
     "output_type": "stream",
     "text": [
      "Enter n: 36\n",
      "1\n",
      "2\n",
      "3\n",
      "4\n",
      "6\n",
      "9\n",
      "12\n",
      "18\n",
      "36\n"
     ]
    }
   ],
   "source": [
    "number = eval(input(\"Enter n: \" ))\n",
    "for i in range(1,number+1):\n",
    "    if(number%i==0):\n",
    "        print(i)"
   ]
  },
  {
   "cell_type": "markdown",
   "metadata": {},
   "source": [
    "# Q.3.30"
   ]
  },
  {
   "cell_type": "code",
   "execution_count": 18,
   "metadata": {},
   "outputs": [
    {
     "name": "stdout",
     "output_type": "stream",
     "text": [
      "Enter first number: 2\n",
      "Enter second number: 3\n",
      "Enter third number: 4\n",
      "Enter last number: 3\n",
      "Equal\n"
     ]
    }
   ],
   "source": [
    "n1 = eval(input(\"Enter first number: \" ))\n",
    "n2 = eval(input(\"Enter second number: \" ))\n",
    "n3 = eval(input(\"Enter third number: \" ))\n",
    "n4 = eval(input(\"Enter last number: \" ))\n",
    "if (n1+n2+n3)/3 == n4:\n",
    "    print(\"Equal\")"
   ]
  },
  {
   "cell_type": "markdown",
   "metadata": {},
   "source": [
    "# Q.3.31"
   ]
  },
  {
   "cell_type": "code",
   "execution_count": 19,
   "metadata": {},
   "outputs": [
    {
     "name": "stdout",
     "output_type": "stream",
     "text": [
      "Enter x: 2.5\n",
      "Enter y: 4\n",
      "It is in!\n"
     ]
    }
   ],
   "source": [
    "x = eval(input(\"Enter x: \" ))\n",
    "y = eval(input(\"Enter y: \" ))\n",
    "if x**2+y**2 < 8**2:\n",
    "    print(\"It is in!\")"
   ]
  },
  {
   "cell_type": "markdown",
   "metadata": {},
   "source": [
    "# Q.3.33"
   ]
  },
  {
   "cell_type": "code",
   "execution_count": 25,
   "metadata": {},
   "outputs": [
    {
     "name": "stdout",
     "output_type": "stream",
     "text": [
      "eybdoog\n"
     ]
    }
   ],
   "source": [
    "def reverse_string(s):\n",
    "    return s[::-1]\n",
    "print(reverse_string(\"goodbye\"))"
   ]
  },
  {
   "cell_type": "markdown",
   "metadata": {},
   "source": [
    "# Q.3.34"
   ]
  },
  {
   "cell_type": "code",
   "execution_count": 26,
   "metadata": {},
   "outputs": [
    {
     "name": "stdout",
     "output_type": "stream",
     "text": [
      "350\n",
      "475.0\n"
     ]
    }
   ],
   "source": [
    "def pay(wage,hours):\n",
    "    payment = 0\n",
    "    if(hours > 40):\n",
    "        payment = payment + (hours-40)*wage*1.5\n",
    "        payment = payment + (40)*wage\n",
    "    else:\n",
    "        payment = payment + hours*wage\n",
    "    return payment\n",
    "print(pay(10,35))\n",
    "print(pay(10,45))"
   ]
  },
  {
   "cell_type": "markdown",
   "metadata": {},
   "source": [
    "# Q.3.35"
   ]
  },
  {
   "cell_type": "code",
   "execution_count": 27,
   "metadata": {},
   "outputs": [
    {
     "name": "stdout",
     "output_type": "stream",
     "text": [
      "0.5\n",
      "0.25\n"
     ]
    }
   ],
   "source": [
    "def prob(n):\n",
    "    return 2**(-n)\n",
    "print(prob(1))\n",
    "print(prob(2))"
   ]
  },
  {
   "cell_type": "markdown",
   "metadata": {},
   "source": [
    "# Q.3.36"
   ]
  },
  {
   "cell_type": "code",
   "execution_count": 28,
   "metadata": {},
   "outputs": [
    {
     "name": "stdout",
     "output_type": "stream",
     "text": [
      "321\n",
      "809\n"
     ]
    }
   ],
   "source": [
    "def reverse_int(n):\n",
    "    x=0\n",
    "    while(n!=0):\n",
    "        x*=10\n",
    "        x+=n%10\n",
    "        n=n//10\n",
    "    return x\n",
    "print(reverse_int(123))\n",
    "print(reverse_int(908))"
   ]
  },
  {
   "cell_type": "markdown",
   "metadata": {},
   "source": [
    "# Q.3.37"
   ]
  },
  {
   "cell_type": "code",
   "execution_count": 32,
   "metadata": {},
   "outputs": [
    {
     "name": "stdout",
     "output_type": "stream",
     "text": [
      "The slope is 1.0 and the distance is 1.4142135623730951\n",
      "None\n",
      "The slope is infinity and the distance is 2.0\n",
      "None\n"
     ]
    }
   ],
   "source": [
    "import math\n",
    "def points(x1,y1,x2,y2):\n",
    "    distance = str(math.sqrt((x1-x2)**2+(y1-y2)**2))\n",
    "    if(x1==x2):\n",
    "        slope = \"infinity\"\n",
    "    else:\n",
    "        slope = str((y2-y1)/(x2-x1))\n",
    "    print(\"The slope is \"+slope+\" and the distance is \"+distance)\n",
    "print(points(3,0,4,1))\n",
    "print(points(0,3,0,1))"
   ]
  },
  {
   "cell_type": "markdown",
   "metadata": {},
   "source": [
    "# Q.3.38"
   ]
  },
  {
   "cell_type": "code",
   "execution_count": 33,
   "metadata": {},
   "outputs": [
    {
     "name": "stdout",
     "output_type": "stream",
     "text": [
      "Tu\n"
     ]
    }
   ],
   "source": [
    "def abbre(day):\n",
    "    if(day == \"Monday\"):\n",
    "        return \"Mon\"\n",
    "    elif(day == \"Tuesday\"):\n",
    "        return \"Tu\"\n",
    "    elif(day == \"Wednesday\"):\n",
    "        return \"Wed\"\n",
    "    elif(day == \"Thursday\"):\n",
    "        return \"Th\"\n",
    "    elif(day == \"Friday\"):\n",
    "         return \"Fri\"\n",
    "    elif(day == \"Saturday\"):\n",
    "        return \"Sat\"\n",
    "    elif(day == \"Sunday\"):\n",
    "        return \"Sun\"\n",
    "print(abbre(\"Tuesday\"))    "
   ]
  },
  {
   "cell_type": "markdown",
   "metadata": {},
   "source": [
    "# Q.3.39"
   ]
  },
  {
   "cell_type": "code",
   "execution_count": 36,
   "metadata": {},
   "outputs": [
    {
     "name": "stdout",
     "output_type": "stream",
     "text": [
      "False\n",
      "True\n"
     ]
    }
   ],
   "source": [
    "def collision(x1,y1,r1,x2,y2,r2):\n",
    "    if(math.sqrt((x1-x2)**2+(y1-y2)**2) > r1+r2):\n",
    "        return False\n",
    "    else:\n",
    "        return True\n",
    "print(collision(2,4,1,6,7,0))   \n",
    "print(collision(3,4,1,3,3,1)) "
   ]
  },
  {
   "cell_type": "markdown",
   "metadata": {},
   "source": [
    "# Q.3.40"
   ]
  },
  {
   "cell_type": "code",
   "execution_count": 37,
   "metadata": {},
   "outputs": [
    {
     "name": "stdout",
     "output_type": "stream",
     "text": [
      "Eleanor\n",
      "Evelyn\n",
      "Gavin\n",
      "\n"
     ]
    }
   ],
   "source": [
    "def partition(list):\n",
    "    for name in list:\n",
    "          if name[0] >= \"A\" and name[0] <= \"M\":\n",
    "                print(name)\n",
    "    return\"\"           \n",
    "print(partition([\"Eleanor\",\"Evelyn\",\"Sammy\",\"Owen\",\"Gavin\"]))"
   ]
  },
  {
   "cell_type": "markdown",
   "metadata": {},
   "source": [
    "# Q.3.41"
   ]
  },
  {
   "cell_type": "code",
   "execution_count": 38,
   "metadata": {},
   "outputs": [
    {
     "name": "stdout",
     "output_type": "stream",
     "text": [
      "camus, A.\n"
     ]
    }
   ],
   "source": [
    "def lastF(firstname,lastname):\n",
    "    return lastname+\", \"+firstname[0]+\".\"\n",
    "print(lastF(\"Albert\",\"camus\"))"
   ]
  },
  {
   "cell_type": "markdown",
   "metadata": {},
   "source": [
    "# Q.3.42"
   ]
  },
  {
   "cell_type": "code",
   "execution_count": 43,
   "metadata": {},
   "outputs": [
    {
     "name": "stdout",
     "output_type": "stream",
     "text": [
      "90.0\n",
      "60.0\n",
      "89.0\n",
      "87.0\n",
      "11.0\n",
      "\n"
     ]
    }
   ],
   "source": [
    "def avg(lists):\n",
    "    for list in lists:\n",
    "        print(sum(list)/len(list))\n",
    "    return''  \n",
    "print(avg([[95,92,86,87],[66,54],[89],[89,72,100],[33,0,0]])) "
   ]
  },
  {
   "cell_type": "markdown",
   "metadata": {},
   "source": [
    "# Q.3.43"
   ]
  },
  {
   "cell_type": "code",
   "execution_count": 44,
   "metadata": {},
   "outputs": [
    {
     "name": "stdout",
     "output_type": "stream",
     "text": [
      "False\n",
      "True\n"
     ]
    }
   ],
   "source": [
    "import math\n",
    "def hit(x1,y1,r,x2,y2):\n",
    "    if(math.sqrt((x1-x2)**2+(y1-y2)**2) > r):\n",
    "        return True\n",
    "    else:\n",
    "        return False\n",
    "    return\"\"\n",
    "print(hit(0,0,3,3,0))\n",
    "print(hit(0,0,3,4,0))"
   ]
  },
  {
   "cell_type": "markdown",
   "metadata": {},
   "source": [
    "# Q.3.44"
   ]
  },
  {
   "cell_type": "code",
   "execution_count": 45,
   "metadata": {},
   "outputs": [
    {
     "name": "stdout",
     "output_type": "stream",
     "text": [
      "1.0208700000000002\n"
     ]
    }
   ],
   "source": [
    "def distance(n):\n",
    "    return n*340.29/1000\n",
    "print(distance(3))"
   ]
  }
 ],
 "metadata": {
  "kernelspec": {
   "display_name": "Python 3",
   "language": "python",
   "name": "python3"
  },
  "language_info": {
   "codemirror_mode": {
    "name": "ipython",
    "version": 3
   },
   "file_extension": ".py",
   "mimetype": "text/x-python",
   "name": "python",
   "nbconvert_exporter": "python",
   "pygments_lexer": "ipython3",
   "version": "3.7.4"
  }
 },
 "nbformat": 4,
 "nbformat_minor": 2
}
